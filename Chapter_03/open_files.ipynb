{
 "cells": [
  {
   "cell_type": "code",
   "execution_count": 8,
   "id": "c10c2dc9-a076-4d1f-aab0-179675dd56cf",
   "metadata": {},
   "outputs": [],
   "source": [
    "import configparser\n",
    "import csv\n",
    "import requests\n",
    "config = configparser.ConfigParser()\n",
    "config.read(\"../config\")\n",
    "api = config[\"nasdaq\"][\"api\"]\n",
    "url = f\"https://data.nasdaq.com/api/v3/datasets/HKEX/00519.csv?api_key={api}\"\n",
    "csv_file = requests.get(url).content\n",
    "decoded = csv_file.decode()\n",
    "# print(decoded)\n",
    "with open(\"HKEX.csv\", \"w\") as f:\n",
    "    f.write(decoded)"
   ]
  },
  {
   "cell_type": "code",
   "execution_count": null,
   "id": "d7a52ce1-4aa3-4832-af9b-aaead36d1470",
   "metadata": {},
   "outputs": [],
   "source": []
  }
 ],
 "metadata": {
  "kernelspec": {
   "display_name": "Python 3 (ipykernel)",
   "language": "python",
   "name": "python3"
  },
  "language_info": {
   "codemirror_mode": {
    "name": "ipython",
    "version": 3
   },
   "file_extension": ".py",
   "mimetype": "text/x-python",
   "name": "python",
   "nbconvert_exporter": "python",
   "pygments_lexer": "ipython3",
   "version": "3.10.7"
  }
 },
 "nbformat": 4,
 "nbformat_minor": 5
}
