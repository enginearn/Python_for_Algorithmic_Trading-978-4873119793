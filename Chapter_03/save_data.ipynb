{
 "cells": [
  {
   "cell_type": "code",
   "execution_count": 2,
   "id": "af2043ca-15c2-46b6-ad0f-d2915c656569",
   "metadata": {},
   "outputs": [
    {
     "data": {
      "text/plain": [
       "['../config']"
      ]
     },
     "execution_count": 2,
     "metadata": {},
     "output_type": "execute_result"
    }
   ],
   "source": [
    "import pandas as pd\n",
    "import numpy as np\n",
    "import configparser\n",
    "\n",
    "config = configparser.ConfigParser()\n",
    "config.read(\"../config\")"
   ]
  },
  {
   "cell_type": "code",
   "execution_count": 3,
   "id": "97b57a24-c566-4d3d-8742-c2e4298e22e1",
   "metadata": {},
   "outputs": [
    {
     "name": "stdout",
     "output_type": "stream",
     "text": [
      "                   No0         No1         No2\n",
      "2022-01-01  100.000000  100.000000  100.000000\n",
      "2022-01-02   97.668719  101.387438   98.257757\n",
      "2022-01-03  104.041959   97.998319  103.957679\n",
      "2022-01-04  103.059655   97.547208  106.347025\n",
      "2022-01-05  107.306893   99.753968  106.567349\n"
     ]
    }
   ],
   "source": [
    "!python sample_data.py"
   ]
  },
  {
   "cell_type": "code",
   "execution_count": 4,
   "id": "f406616b-879e-4f7b-8970-2b30c5e10875",
   "metadata": {},
   "outputs": [],
   "source": [
    "from sample_data import generate_sample_data"
   ]
  },
  {
   "cell_type": "code",
   "execution_count": 5,
   "id": "2dd0508f-b4ea-494a-bf02-dbd05f702ea7",
   "metadata": {},
   "outputs": [
    {
     "name": "stdout",
     "output_type": "stream",
     "text": [
      "                            No0         No1         No2\n",
      "2022-01-01 00:00:00  100.000000  100.000000  100.000000\n",
      "2022-01-01 00:01:00  100.103012  100.037534   99.971651\n",
      "2022-01-01 00:02:00  100.195362  100.153648   99.983420\n",
      "2022-01-01 00:03:00  100.185365  100.103169   99.947564\n",
      "2022-01-01 00:04:00  100.284931  100.181629   99.869974\n"
     ]
    }
   ],
   "source": [
    "print(generate_sample_data(rows=5, cols=3))"
   ]
  },
  {
   "cell_type": "code",
   "execution_count": 6,
   "id": "4c02e91e-ee64-4a95-b9d1-b1b68c96c52b",
   "metadata": {},
   "outputs": [
    {
     "name": "stdout",
     "output_type": "stream",
     "text": [
      "CPU times: total: 3.3 s\n",
      "Wall time: 3.47 s\n"
     ]
    }
   ],
   "source": [
    "%time data = generate_sample_data(rows=5e6, cols=10).round(4)"
   ]
  },
  {
   "cell_type": "code",
   "execution_count": 7,
   "id": "300b5d35-fa4e-4777-b915-1d6a26eb3519",
   "metadata": {},
   "outputs": [
    {
     "name": "stdout",
     "output_type": "stream",
     "text": [
      "<class 'pandas.core.frame.DataFrame'>\n",
      "DatetimeIndex: 5000000 entries, 2022-01-01 00:00:00 to 2031-07-05 05:19:00\n",
      "Freq: T\n",
      "Data columns (total 10 columns):\n",
      " #   Column  Dtype  \n",
      "---  ------  -----  \n",
      " 0   No0     float64\n",
      " 1   No1     float64\n",
      " 2   No2     float64\n",
      " 3   No3     float64\n",
      " 4   No4     float64\n",
      " 5   No5     float64\n",
      " 6   No6     float64\n",
      " 7   No7     float64\n",
      " 8   No8     float64\n",
      " 9   No9     float64\n",
      "dtypes: float64(10)\n",
      "memory usage: 419.6 MB\n"
     ]
    }
   ],
   "source": [
    "data.info()"
   ]
  },
  {
   "cell_type": "code",
   "execution_count": 9,
   "id": "bba9866d-5115-4564-b265-0d78daf66054",
   "metadata": {},
   "outputs": [],
   "source": [
    "h5 = pd.HDFStore(\"data/data.h5\", \"w\")"
   ]
  },
  {
   "cell_type": "code",
   "execution_count": 10,
   "id": "7fa758a4-4b74-4e9c-8971-8a6ea2261767",
   "metadata": {},
   "outputs": [
    {
     "name": "stdout",
     "output_type": "stream",
     "text": [
      "CPU times: total: 656 ms\n",
      "Wall time: 1.72 s\n"
     ]
    }
   ],
   "source": [
    "%time h5[\"data\"] = data"
   ]
  },
  {
   "cell_type": "code",
   "execution_count": 11,
   "id": "cf0e6afc-4524-4c53-a4df-cfbbcea98a27",
   "metadata": {},
   "outputs": [
    {
     "data": {
      "text/plain": [
       "<class 'pandas.io.pytables.HDFStore'>\n",
       "File path: data/data.h5"
      ]
     },
     "execution_count": 11,
     "metadata": {},
     "output_type": "execute_result"
    }
   ],
   "source": [
    "h5"
   ]
  },
  {
   "cell_type": "code",
   "execution_count": 12,
   "id": "54195d72-442d-42a5-8495-cfa794f75942",
   "metadata": {},
   "outputs": [],
   "source": [
    "h5.close()"
   ]
  },
  {
   "cell_type": "code",
   "execution_count": 13,
   "id": "b1bf6d46-87ca-457e-b64b-dfd77cce6667",
   "metadata": {},
   "outputs": [],
   "source": [
    "h5 = pd.HDFStore(\"data/data.h5\", \"r\")"
   ]
  },
  {
   "cell_type": "code",
   "execution_count": 14,
   "id": "b67d43f2-8d5b-4eb2-89ef-264293236d8d",
   "metadata": {},
   "outputs": [
    {
     "name": "stdout",
     "output_type": "stream",
     "text": [
      "CPU times: total: 516 ms\n",
      "Wall time: 523 ms\n"
     ]
    }
   ],
   "source": [
    "%time data_copy = h5[\"data\"]"
   ]
  },
  {
   "cell_type": "code",
   "execution_count": 15,
   "id": "7f6a1d68-73e5-4fcd-beaa-3bebcb828c4d",
   "metadata": {},
   "outputs": [
    {
     "name": "stdout",
     "output_type": "stream",
     "text": [
      "<class 'pandas.core.frame.DataFrame'>\n",
      "DatetimeIndex: 5000000 entries, 2022-01-01 00:00:00 to 2031-07-05 05:19:00\n",
      "Freq: T\n",
      "Data columns (total 10 columns):\n",
      " #   Column  Dtype  \n",
      "---  ------  -----  \n",
      " 0   No0     float64\n",
      " 1   No1     float64\n",
      " 2   No2     float64\n",
      " 3   No3     float64\n",
      " 4   No4     float64\n",
      " 5   No5     float64\n",
      " 6   No6     float64\n",
      " 7   No7     float64\n",
      " 8   No8     float64\n",
      " 9   No9     float64\n",
      "dtypes: float64(10)\n",
      "memory usage: 419.6 MB\n"
     ]
    }
   ],
   "source": [
    "data_copy.info()"
   ]
  },
  {
   "cell_type": "code",
   "execution_count": 16,
   "id": "c1f048be-5978-48e4-875f-1af5710779f9",
   "metadata": {},
   "outputs": [],
   "source": [
    "h5.close()"
   ]
  },
  {
   "cell_type": "code",
   "execution_count": 17,
   "id": "baca5b76-a262-4444-9647-e6fd6e248d00",
   "metadata": {},
   "outputs": [
    {
     "data": {
      "application/json": {
       "cell": {
        "!": "OSMagics",
        "HTML": "Other",
        "SVG": "Other",
        "bash": "Other",
        "capture": "ExecutionMagics",
        "cmd": "Other",
        "debug": "ExecutionMagics",
        "file": "Other",
        "html": "DisplayMagics",
        "javascript": "DisplayMagics",
        "js": "DisplayMagics",
        "latex": "DisplayMagics",
        "markdown": "DisplayMagics",
        "perl": "Other",
        "prun": "ExecutionMagics",
        "pypy": "Other",
        "python": "Other",
        "python2": "Other",
        "python3": "Other",
        "ruby": "Other",
        "script": "ScriptMagics",
        "sh": "Other",
        "svg": "DisplayMagics",
        "sx": "OSMagics",
        "system": "OSMagics",
        "time": "ExecutionMagics",
        "timeit": "ExecutionMagics",
        "writefile": "OSMagics"
       },
       "line": {
        "alias": "OSMagics",
        "alias_magic": "BasicMagics",
        "autoawait": "AsyncMagics",
        "autocall": "AutoMagics",
        "automagic": "AutoMagics",
        "autosave": "KernelMagics",
        "bookmark": "OSMagics",
        "cd": "OSMagics",
        "clear": "KernelMagics",
        "cls": "KernelMagics",
        "colors": "BasicMagics",
        "conda": "PackagingMagics",
        "config": "ConfigMagics",
        "connect_info": "KernelMagics",
        "copy": "Other",
        "ddir": "Other",
        "debug": "ExecutionMagics",
        "dhist": "OSMagics",
        "dirs": "OSMagics",
        "doctest_mode": "BasicMagics",
        "echo": "Other",
        "ed": "Other",
        "edit": "KernelMagics",
        "env": "OSMagics",
        "gui": "BasicMagics",
        "hist": "Other",
        "history": "HistoryMagics",
        "killbgscripts": "ScriptMagics",
        "ldir": "Other",
        "less": "KernelMagics",
        "load": "CodeMagics",
        "load_ext": "ExtensionMagics",
        "loadpy": "CodeMagics",
        "logoff": "LoggingMagics",
        "logon": "LoggingMagics",
        "logstart": "LoggingMagics",
        "logstate": "LoggingMagics",
        "logstop": "LoggingMagics",
        "ls": "Other",
        "lsmagic": "BasicMagics",
        "macro": "ExecutionMagics",
        "magic": "BasicMagics",
        "matplotlib": "PylabMagics",
        "mkdir": "Other",
        "more": "KernelMagics",
        "notebook": "BasicMagics",
        "page": "BasicMagics",
        "pastebin": "CodeMagics",
        "pdb": "ExecutionMagics",
        "pdef": "NamespaceMagics",
        "pdoc": "NamespaceMagics",
        "pfile": "NamespaceMagics",
        "pinfo": "NamespaceMagics",
        "pinfo2": "NamespaceMagics",
        "pip": "PackagingMagics",
        "popd": "OSMagics",
        "pprint": "BasicMagics",
        "precision": "BasicMagics",
        "prun": "ExecutionMagics",
        "psearch": "NamespaceMagics",
        "psource": "NamespaceMagics",
        "pushd": "OSMagics",
        "pwd": "OSMagics",
        "pycat": "OSMagics",
        "pylab": "PylabMagics",
        "qtconsole": "KernelMagics",
        "quickref": "BasicMagics",
        "recall": "HistoryMagics",
        "rehashx": "OSMagics",
        "reload_ext": "ExtensionMagics",
        "ren": "Other",
        "rep": "Other",
        "rerun": "HistoryMagics",
        "reset": "NamespaceMagics",
        "reset_selective": "NamespaceMagics",
        "rmdir": "Other",
        "run": "ExecutionMagics",
        "save": "CodeMagics",
        "sc": "OSMagics",
        "set_env": "OSMagics",
        "store": "StoreMagics",
        "sx": "OSMagics",
        "system": "OSMagics",
        "tb": "ExecutionMagics",
        "time": "ExecutionMagics",
        "timeit": "ExecutionMagics",
        "unalias": "OSMagics",
        "unload_ext": "ExtensionMagics",
        "who": "NamespaceMagics",
        "who_ls": "NamespaceMagics",
        "whos": "NamespaceMagics",
        "xdel": "NamespaceMagics",
        "xmode": "BasicMagics"
       }
      },
      "text/plain": [
       "Available line magics:\n",
       "%alias  %alias_magic  %autoawait  %autocall  %automagic  %autosave  %bookmark  %cd  %clear  %cls  %colors  %conda  %config  %connect_info  %copy  %ddir  %debug  %dhist  %dirs  %doctest_mode  %echo  %ed  %edit  %env  %gui  %hist  %history  %killbgscripts  %ldir  %less  %load  %load_ext  %loadpy  %logoff  %logon  %logstart  %logstate  %logstop  %ls  %lsmagic  %macro  %magic  %matplotlib  %mkdir  %more  %notebook  %page  %pastebin  %pdb  %pdef  %pdoc  %pfile  %pinfo  %pinfo2  %pip  %popd  %pprint  %precision  %prun  %psearch  %psource  %pushd  %pwd  %pycat  %pylab  %qtconsole  %quickref  %recall  %rehashx  %reload_ext  %ren  %rep  %rerun  %reset  %reset_selective  %rmdir  %run  %save  %sc  %set_env  %store  %sx  %system  %tb  %time  %timeit  %unalias  %unload_ext  %who  %who_ls  %whos  %xdel  %xmode\n",
       "\n",
       "Available cell magics:\n",
       "%%!  %%HTML  %%SVG  %%bash  %%capture  %%cmd  %%debug  %%file  %%html  %%javascript  %%js  %%latex  %%markdown  %%perl  %%prun  %%pypy  %%python  %%python2  %%python3  %%ruby  %%script  %%sh  %%svg  %%sx  %%system  %%time  %%timeit  %%writefile\n",
       "\n",
       "Automagic is ON, % prefix IS NOT needed for line magics."
      ]
     },
     "execution_count": 17,
     "metadata": {},
     "output_type": "execute_result"
    }
   ],
   "source": [
    "%lsmagic"
   ]
  },
  {
   "cell_type": "code",
   "execution_count": 18,
   "id": "fcaee3cd-8b24-4ed3-9a84-bd43b98c8db8",
   "metadata": {},
   "outputs": [
    {
     "name": "stdout",
     "output_type": "stream",
     "text": [
      "CPU times: total: 4.28 s\n",
      "Wall time: 4.62 s\n"
     ]
    }
   ],
   "source": [
    "%time data.to_hdf(\"data/data.h5\", \"data\", format=\"table\")"
   ]
  },
  {
   "cell_type": "code",
   "execution_count": 19,
   "id": "04f4c673-74e4-40b8-a997-3ee50e11a8ec",
   "metadata": {},
   "outputs": [
    {
     "name": "stdout",
     "output_type": "stream",
     "text": [
      "CPU times: total: 453 ms\n",
      "Wall time: 510 ms\n"
     ]
    }
   ],
   "source": [
    "%time data_copy = pd.read_hdf(\"data/data.h5\", \"data\")"
   ]
  },
  {
   "cell_type": "code",
   "execution_count": 20,
   "id": "a33fbcc0-2d40-4bd3-90c7-e35c3cb395ec",
   "metadata": {},
   "outputs": [
    {
     "name": "stdout",
     "output_type": "stream",
     "text": [
      "<class 'pandas.core.frame.DataFrame'>\n",
      "DatetimeIndex: 5000000 entries, 2022-01-01 00:00:00 to 2031-07-05 05:19:00\n",
      "Freq: T\n",
      "Data columns (total 10 columns):\n",
      " #   Column  Dtype  \n",
      "---  ------  -----  \n",
      " 0   No0     float64\n",
      " 1   No1     float64\n",
      " 2   No2     float64\n",
      " 3   No3     float64\n",
      " 4   No4     float64\n",
      " 5   No5     float64\n",
      " 6   No6     float64\n",
      " 7   No7     float64\n",
      " 8   No8     float64\n",
      " 9   No9     float64\n",
      "dtypes: float64(10)\n",
      "memory usage: 419.6 MB\n"
     ]
    }
   ],
   "source": [
    "data_copy.info()"
   ]
  },
  {
   "cell_type": "code",
   "execution_count": 21,
   "id": "c20c1778-a2d7-47af-ba6f-0590efc38614",
   "metadata": {},
   "outputs": [],
   "source": [
    "import tables as tb"
   ]
  },
  {
   "cell_type": "code",
   "execution_count": 22,
   "id": "5433ed80-45eb-4efd-80fb-077163dab68d",
   "metadata": {},
   "outputs": [],
   "source": [
    "h5 = tb.open_file(\"data/data.h5\", \"r\")"
   ]
  },
  {
   "cell_type": "code",
   "execution_count": 23,
   "id": "bc9383ed-5ba8-48f1-b87c-4fe6cd618fc8",
   "metadata": {},
   "outputs": [
    {
     "data": {
      "text/plain": [
       "File(filename=data/data.h5, title='', mode='r', root_uep='/', filters=Filters(complevel=0, shuffle=False, bitshuffle=False, fletcher32=False, least_significant_digit=None))\n",
       "/ (RootGroup) ''\n",
       "/data (Group) ''\n",
       "/data/table (Table(5000000,)) ''\n",
       "  description := {\n",
       "  \"index\": Int64Col(shape=(), dflt=0, pos=0),\n",
       "  \"values_block_0\": Float64Col(shape=(10,), dflt=0.0, pos=1)}\n",
       "  byteorder := 'little'\n",
       "  chunkshape := (2978,)\n",
       "  autoindex := True\n",
       "  colindexes := {\n",
       "    \"index\": Index(6, mediumshuffle, zlib(1)).is_csi=False}"
      ]
     },
     "execution_count": 23,
     "metadata": {},
     "output_type": "execute_result"
    }
   ],
   "source": [
    "h5"
   ]
  },
  {
   "cell_type": "code",
   "execution_count": 24,
   "id": "ae239430-69f9-4baf-adfd-9e0b7208608b",
   "metadata": {},
   "outputs": [
    {
     "data": {
      "text/plain": [
       "array([(1640995200000000000, [100.    , 100.    , 100.    , 100.    , 100.    , 100.    , 100.    , 100.    , 100.    , 100.    ]),\n",
       "       (1640995260000000000, [100.011 ,  99.9946,  99.9821, 100.0966,  99.929 ,  99.9285,  99.9791, 100.1249,  99.9814,  99.9928]),\n",
       "       (1640995320000000000, [ 99.9795,  99.9901, 100.0605, 100.0389,  99.8389, 100.0887, 100.0594, 100.1315,  99.9201,  99.9858])],\n",
       "      dtype=[('index', '<i8'), ('values_block_0', '<f8', (10,))])"
      ]
     },
     "execution_count": 24,
     "metadata": {},
     "output_type": "execute_result"
    }
   ],
   "source": [
    "h5.root.data.table[:3]"
   ]
  },
  {
   "cell_type": "code",
   "execution_count": 25,
   "id": "d6e1fc22-6ec1-4768-8cb6-a1656a1046a0",
   "metadata": {},
   "outputs": [],
   "source": [
    "h5.close()"
   ]
  },
  {
   "cell_type": "code",
   "execution_count": 26,
   "id": "9c5d371f-be39-4b76-9509-51a25f8201b0",
   "metadata": {},
   "outputs": [
    {
     "name": "stdout",
     "output_type": "stream",
     "text": [
      "CPU times: total: 969 ms\n",
      "Wall time: 956 ms\n"
     ]
    }
   ],
   "source": [
    "%%time\n",
    "data = generate_sample_data(rows=2.5e6, cols=5,\n",
    "                           freq=\"1s\").round(4)"
   ]
  },
  {
   "cell_type": "code",
   "execution_count": 27,
   "id": "0dd27aba-b0b2-40bb-a6bf-d5c3613ff1d3",
   "metadata": {},
   "outputs": [
    {
     "name": "stdout",
     "output_type": "stream",
     "text": [
      "<class 'pandas.core.frame.DataFrame'>\n",
      "DatetimeIndex: 2500000 entries, 2022-01-01 00:00:00 to 2022-01-29 22:26:39\n",
      "Freq: S\n",
      "Data columns (total 5 columns):\n",
      " #   Column  Dtype  \n",
      "---  ------  -----  \n",
      " 0   No0     float64\n",
      " 1   No1     float64\n",
      " 2   No2     float64\n",
      " 3   No3     float64\n",
      " 4   No4     float64\n",
      "dtypes: float64(5)\n",
      "memory usage: 114.4 MB\n"
     ]
    }
   ],
   "source": [
    "data.info()"
   ]
  },
  {
   "cell_type": "code",
   "execution_count": 28,
   "id": "e43aad15-8913-42c5-b7bf-9f813a83de52",
   "metadata": {},
   "outputs": [
    {
     "name": "stdout",
     "output_type": "stream",
     "text": [
      "Collecting git+https://github.com/yhilpisch/tstables.git\n",
      "  Cloning https://github.com/yhilpisch/tstables.git to c:\\users\\nagar\\appdata\\local\\temp\\pip-req-build-cyvs2zwf\n",
      "  Resolved https://github.com/yhilpisch/tstables.git to commit 920af20fe3a7bcb2ebf956c6a412f50faf037b81\n",
      "  Preparing metadata (setup.py): started\n",
      "  Preparing metadata (setup.py): finished with status 'done'\n",
      "Requirement already satisfied: tables>=3.1.1 in c:\\users\\nagar\\appdata\\local\\programs\\python\\python310\\lib\\site-packages (from tstables==0.0.15) (3.7.0)\n",
      "Requirement already satisfied: pandas>=0.13.1 in c:\\users\\nagar\\appdata\\local\\programs\\python\\python310\\lib\\site-packages (from tstables==0.0.15) (1.5.0)\n",
      "Requirement already satisfied: pytz>=2020.1 in c:\\users\\nagar\\appdata\\local\\programs\\python\\python310\\lib\\site-packages (from pandas>=0.13.1->tstables==0.0.15) (2022.4)\n",
      "Requirement already satisfied: python-dateutil>=2.8.1 in c:\\users\\nagar\\appdata\\roaming\\python\\python310\\site-packages (from pandas>=0.13.1->tstables==0.0.15) (2.8.2)\n",
      "Requirement already satisfied: numpy>=1.21.0 in c:\\users\\nagar\\appdata\\local\\programs\\python\\python310\\lib\\site-packages (from pandas>=0.13.1->tstables==0.0.15) (1.23.3)\n",
      "Requirement already satisfied: packaging in c:\\users\\nagar\\appdata\\roaming\\python\\python310\\site-packages (from tables>=3.1.1->tstables==0.0.15) (21.3)\n",
      "Requirement already satisfied: numexpr>=2.6.2 in c:\\users\\nagar\\appdata\\local\\programs\\python\\python310\\lib\\site-packages (from tables>=3.1.1->tstables==0.0.15) (2.8.3)\n",
      "Requirement already satisfied: six>=1.5 in c:\\users\\nagar\\appdata\\roaming\\python\\python310\\site-packages (from python-dateutil>=2.8.1->pandas>=0.13.1->tstables==0.0.15) (1.16.0)\n",
      "Requirement already satisfied: pyparsing!=3.0.5,>=2.0.2 in c:\\users\\nagar\\appdata\\roaming\\python\\python310\\site-packages (from packaging->tables>=3.1.1->tstables==0.0.15) (3.0.9)\n",
      "Using legacy 'setup.py install' for tstables, since package 'wheel' is not installed.\n",
      "Installing collected packages: tstables\n",
      "  Running setup.py install for tstables: started\n",
      "  Running setup.py install for tstables: finished with status 'done'\n",
      "Successfully installed tstables-0.0.15\n"
     ]
    },
    {
     "name": "stderr",
     "output_type": "stream",
     "text": [
      "  Running command git clone --filter=blob:none --quiet https://github.com/yhilpisch/tstables.git 'C:\\Users\\nagar\\AppData\\Local\\Temp\\pip-req-build-cyvs2zwf'\n"
     ]
    }
   ],
   "source": [
    "# install tstables\n",
    "# !pip install git+https://github.com/yhilpisch/tstables.git"
   ]
  },
  {
   "cell_type": "code",
   "execution_count": 29,
   "id": "9fa439f9-1aaa-4784-b8fb-2eacc9edb8ec",
   "metadata": {},
   "outputs": [],
   "source": [
    "import tstables"
   ]
  },
  {
   "cell_type": "code",
   "execution_count": 30,
   "id": "3038f6bc-027c-4e89-a10e-546a98245b52",
   "metadata": {},
   "outputs": [],
   "source": [
    "class desc(tb.IsDescription):\n",
    "    \"\"\" Description of TsTables table structure.\n",
    "    \"\"\"\n",
    "    timestamp = tb.Int64Col(pos=0)\n",
    "    No0 = tb.Float64Col(pos=1)\n",
    "    No1 = tb.Float64Col(pos=2)\n",
    "    No2 = tb.Float64Col(pos=3)\n",
    "    No3 = tb.Float64Col(pos=4)\n",
    "    No4 = tb.Float64Col(pos=5)"
   ]
  },
  {
   "cell_type": "code",
   "execution_count": 31,
   "id": "c0871f04-a804-4fa2-bbe8-acd65a28eceb",
   "metadata": {},
   "outputs": [],
   "source": [
    "h5 = tb.open_file(\"data/data.h5ts\", \"w\")"
   ]
  },
  {
   "cell_type": "code",
   "execution_count": 32,
   "id": "47bc122a-21f3-4985-9e66-e212df6ae34d",
   "metadata": {},
   "outputs": [],
   "source": [
    "ts = h5.create_ts(\"/\", \"data\", desc)"
   ]
  },
  {
   "cell_type": "code",
   "execution_count": 33,
   "id": "1b7569b7-f49a-4337-a2a9-0cf290486007",
   "metadata": {},
   "outputs": [
    {
     "data": {
      "text/plain": [
       "File(filename=data/data.h5ts, title='', mode='w', root_uep='/', filters=Filters(complevel=0, shuffle=False, bitshuffle=False, fletcher32=False, least_significant_digit=None))\n",
       "/ (RootGroup) ''\n",
       "/data (Group/Timeseries) ''\n",
       "/data/y2022 (Group) ''\n",
       "/data/y2022/m10 (Group) ''\n",
       "/data/y2022/m10/d11 (Group) ''\n",
       "/data/y2022/m10/d11/ts_data (Table(0,)) ''\n",
       "  description := {\n",
       "  \"timestamp\": Int64Col(shape=(), dflt=0, pos=0),\n",
       "  \"No0\": Float64Col(shape=(), dflt=0.0, pos=1),\n",
       "  \"No1\": Float64Col(shape=(), dflt=0.0, pos=2),\n",
       "  \"No2\": Float64Col(shape=(), dflt=0.0, pos=3),\n",
       "  \"No3\": Float64Col(shape=(), dflt=0.0, pos=4),\n",
       "  \"No4\": Float64Col(shape=(), dflt=0.0, pos=5)}\n",
       "  byteorder := 'little'\n",
       "  chunkshape := (1365,)"
      ]
     },
     "execution_count": 33,
     "metadata": {},
     "output_type": "execute_result"
    }
   ],
   "source": [
    "h5"
   ]
  },
  {
   "cell_type": "code",
   "execution_count": 34,
   "id": "a2facab6-75bd-44b9-836f-845f7edb9780",
   "metadata": {},
   "outputs": [
    {
     "name": "stdout",
     "output_type": "stream",
     "text": [
      "CPU times: total: 656 ms\n",
      "Wall time: 735 ms\n"
     ]
    }
   ],
   "source": [
    "%time ts.append(data)"
   ]
  },
  {
   "cell_type": "code",
   "execution_count": null,
   "id": "006b5f30-1849-4f8b-9cf2-1779a2390243",
   "metadata": {},
   "outputs": [],
   "source": [
    "# h5"
   ]
  },
  {
   "cell_type": "code",
   "execution_count": 35,
   "id": "87d22d05-435d-4759-9734-26b58f3bc33f",
   "metadata": {},
   "outputs": [],
   "source": [
    "import datetime"
   ]
  },
  {
   "cell_type": "code",
   "execution_count": 36,
   "id": "3b0a761f-8c7d-423c-bba2-18ebeac3d7ef",
   "metadata": {},
   "outputs": [],
   "source": [
    "start = datetime.datetime(2022, 1, 2)"
   ]
  },
  {
   "cell_type": "code",
   "execution_count": 37,
   "id": "2fbd3430-d2da-45be-9aa6-ff3c9b9d6958",
   "metadata": {},
   "outputs": [],
   "source": [
    "end = datetime.datetime(2022, 1, 3)"
   ]
  },
  {
   "cell_type": "code",
   "execution_count": 38,
   "id": "dcc58a34-4c27-4fb0-b54b-c04fdbfa6ae1",
   "metadata": {},
   "outputs": [
    {
     "name": "stdout",
     "output_type": "stream",
     "text": [
      "CPU times: total: 31.2 ms\n",
      "Wall time: 33 ms\n"
     ]
    }
   ],
   "source": [
    "%time subset = ts.read_range(start, end)"
   ]
  },
  {
   "cell_type": "code",
   "execution_count": 39,
   "id": "3578fc4b-3e47-4f06-9197-4c77b67d3abb",
   "metadata": {},
   "outputs": [],
   "source": [
    "start = datetime.datetime(2022, 1, 2, 12, 30, 0)"
   ]
  },
  {
   "cell_type": "code",
   "execution_count": 40,
   "id": "834d93d1-af35-4928-9069-11d365dbf86d",
   "metadata": {},
   "outputs": [],
   "source": [
    "end = datetime.datetime(2022, 1, 5, 17, 15, 30)"
   ]
  },
  {
   "cell_type": "code",
   "execution_count": 41,
   "id": "cf1c120d-e5b6-4a9d-a527-0f14fc948481",
   "metadata": {},
   "outputs": [
    {
     "name": "stdout",
     "output_type": "stream",
     "text": [
      "CPU times: total: 78.1 ms\n",
      "Wall time: 79 ms\n"
     ]
    }
   ],
   "source": [
    "%time subset = ts.read_range(start, end)"
   ]
  },
  {
   "cell_type": "code",
   "execution_count": 42,
   "id": "c343175c-274e-4a31-a709-078cadcd1464",
   "metadata": {},
   "outputs": [
    {
     "name": "stdout",
     "output_type": "stream",
     "text": [
      "<class 'pandas.core.frame.DataFrame'>\n",
      "DatetimeIndex: 276331 entries, 2022-01-02 12:30:00 to 2022-01-05 17:15:30\n",
      "Data columns (total 5 columns):\n",
      " #   Column  Non-Null Count   Dtype  \n",
      "---  ------  --------------   -----  \n",
      " 0   No0     276331 non-null  float64\n",
      " 1   No1     276331 non-null  float64\n",
      " 2   No2     276331 non-null  float64\n",
      " 3   No3     276331 non-null  float64\n",
      " 4   No4     276331 non-null  float64\n",
      "dtypes: float64(5)\n",
      "memory usage: 12.6 MB\n"
     ]
    }
   ],
   "source": [
    "subset.info()"
   ]
  },
  {
   "cell_type": "code",
   "execution_count": 43,
   "id": "eccd1c10-54bf-47e1-8147-c50cb9f34363",
   "metadata": {},
   "outputs": [],
   "source": [
    "h5.close()"
   ]
  },
  {
   "cell_type": "code",
   "execution_count": 44,
   "id": "f35b7089-2582-47e6-9f59-5d0241ea9e49",
   "metadata": {},
   "outputs": [
    {
     "name": "stdout",
     "output_type": "stream",
     "text": [
      "CPU times: total: 422 ms\n",
      "Wall time: 421 ms\n"
     ]
    }
   ],
   "source": [
    "%time data = generate_sample_data(1e6, 5, \"1min\").round(4)"
   ]
  },
  {
   "cell_type": "code",
   "execution_count": 45,
   "id": "8166d382-b29c-4eb2-a2f8-55c7737e120f",
   "metadata": {},
   "outputs": [
    {
     "name": "stdout",
     "output_type": "stream",
     "text": [
      "<class 'pandas.core.frame.DataFrame'>\n",
      "DatetimeIndex: 1000000 entries, 2022-01-01 00:00:00 to 2023-11-26 10:39:00\n",
      "Freq: T\n",
      "Data columns (total 5 columns):\n",
      " #   Column  Non-Null Count    Dtype  \n",
      "---  ------  --------------    -----  \n",
      " 0   No0     1000000 non-null  float64\n",
      " 1   No1     1000000 non-null  float64\n",
      " 2   No2     1000000 non-null  float64\n",
      " 3   No3     1000000 non-null  float64\n",
      " 4   No4     1000000 non-null  float64\n",
      "dtypes: float64(5)\n",
      "memory usage: 45.8 MB\n"
     ]
    }
   ],
   "source": [
    "data.info()"
   ]
  },
  {
   "cell_type": "code",
   "execution_count": 46,
   "id": "f8ace03c-bdf9-4336-9f38-f1eb82a8746e",
   "metadata": {},
   "outputs": [],
   "source": [
    "import sqlite3"
   ]
  },
  {
   "cell_type": "code",
   "execution_count": 47,
   "id": "c08a57e0-111a-4eed-ac71-85cbc5043878",
   "metadata": {},
   "outputs": [],
   "source": [
    "con = sqlite3.connect(\"data/data.sql\")"
   ]
  },
  {
   "cell_type": "code",
   "execution_count": 48,
   "id": "4d630194-b391-4872-8ffe-31e017229df2",
   "metadata": {},
   "outputs": [
    {
     "name": "stdout",
     "output_type": "stream",
     "text": [
      "CPU times: total: 5.44 s\n",
      "Wall time: 5.9 s\n"
     ]
    },
    {
     "data": {
      "text/plain": [
       "1000000"
      ]
     },
     "execution_count": 48,
     "metadata": {},
     "output_type": "execute_result"
    }
   ],
   "source": [
    "%time data.to_sql(\"data\", con, if_exists='replace')"
   ]
  },
  {
   "cell_type": "code",
   "execution_count": 49,
   "id": "03034e79-618d-41c9-8807-20102c6fdff8",
   "metadata": {},
   "outputs": [],
   "source": [
    "query = \"SELECT * FROM data WHERE No1 > 105 and No2 < 108\""
   ]
  },
  {
   "cell_type": "code",
   "execution_count": 50,
   "id": "5d1e3283-e725-484f-aefa-ddd41a04d3fb",
   "metadata": {},
   "outputs": [
    {
     "name": "stdout",
     "output_type": "stream",
     "text": [
      "CPU times: total: 328 ms\n",
      "Wall time: 440 ms\n"
     ]
    }
   ],
   "source": [
    "%time res = con.execute(query).fetchall()"
   ]
  },
  {
   "cell_type": "code",
   "execution_count": 51,
   "id": "9135f955-d6d8-43f0-bed1-1daaaeeb7e42",
   "metadata": {},
   "outputs": [
    {
     "data": {
      "text/plain": [
       "[('2022-01-24 09:45:00', 90.2754, 105.029, 91.9775, 94.2523, 89.9541),\n",
       " ('2022-01-24 09:46:00', 90.2681, 105.0219, 91.8985, 94.232, 89.8348),\n",
       " ('2022-01-24 09:53:00', 90.2431, 105.0852, 91.652, 94.3063, 90.0386),\n",
       " ('2022-01-24 09:54:00', 90.3113, 105.0158, 91.664, 94.3996, 89.9428),\n",
       " ('2022-01-24 09:56:00', 90.482, 105.0247, 91.6182, 94.5284, 89.7953)]"
      ]
     },
     "execution_count": 51,
     "metadata": {},
     "output_type": "execute_result"
    }
   ],
   "source": [
    "res[:5]"
   ]
  },
  {
   "cell_type": "code",
   "execution_count": 52,
   "id": "e783a725-a90a-4b5a-bc75-a8f90421aeb5",
   "metadata": {},
   "outputs": [
    {
     "data": {
      "text/plain": [
       "55174"
      ]
     },
     "execution_count": 52,
     "metadata": {},
     "output_type": "execute_result"
    }
   ],
   "source": [
    "len(res)"
   ]
  },
  {
   "cell_type": "code",
   "execution_count": null,
   "id": "60403486-827e-4191-a098-d2a3164b7ffc",
   "metadata": {},
   "outputs": [],
   "source": [
    "con.close()"
   ]
  },
  {
   "cell_type": "code",
   "execution_count": null,
   "id": "a413f33f-5dcb-4024-b86f-4075428a6c20",
   "metadata": {},
   "outputs": [],
   "source": []
  }
 ],
 "metadata": {
  "kernelspec": {
   "display_name": "Python 3 (ipykernel)",
   "language": "python",
   "name": "python3"
  },
  "language_info": {
   "codemirror_mode": {
    "name": "ipython",
    "version": 3
   },
   "file_extension": ".py",
   "mimetype": "text/x-python",
   "name": "python",
   "nbconvert_exporter": "python",
   "pygments_lexer": "ipython3",
   "version": "3.10.8"
  },
  "vscode": {
   "interpreter": {
    "hash": "b4640b616723dd9136ff9d5d7b221658773d603869600d6457aebfd7cefb1f82"
   }
  }
 },
 "nbformat": 4,
 "nbformat_minor": 5
}
